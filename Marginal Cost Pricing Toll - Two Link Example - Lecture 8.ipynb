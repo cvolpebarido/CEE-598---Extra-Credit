{
 "cells": [
  {
   "cell_type": "code",
   "execution_count": 54,
   "metadata": {},
   "outputs": [],
   "source": [
    "import numpy as np\n",
    "from scipy.optimize import minimize"
   ]
  },
  {
   "cell_type": "markdown",
   "metadata": {},
   "source": [
    "### Two-Link - Example - Lecture 8"
   ]
  },
  {
   "cell_type": "markdown",
   "metadata": {},
   "source": [
    "![](Marginal-Cost.png) "
   ]
  },
  {
   "cell_type": "markdown",
   "metadata": {},
   "source": [
    "General Data\n",
    "\n",
    "\\$t_{1}(x_{1})=2 + x_{1}$\n",
    "\n",
    "\\$t_{2}(x_{2})=1 + x_{2}$\n",
    "\n",
    "\\$q^{ab} = 5$\n",
    "\n",
    "User-Equilibrium Formulation \n",
    "\n",
    "$\\min z(x) = 2x_{1} + \\frac{x_{1}^{2}}{2} + x_{2} + x_{2}^{2}$ \\\n",
    "s.t. \\\n",
    "$x_{1} + x_{2} = 5$ \\\n",
    "$x\\geq 0 ~~\\forall~ paths$ "
   ]
  },
  {
   "cell_type": "code",
   "execution_count": 72,
   "metadata": {},
   "outputs": [],
   "source": [
    "def objective(x):\n",
    "    x1 = x[0] \n",
    "    x2 = x[1] \n",
    "    \n",
    "    return 2*x[0] + (x[0]**2)/2 + x[1] + x[1]**2\n",
    "\n",
    "def constraint1(x):\n",
    "    return +x[0]+x[1]-5\n",
    "\n",
    "def T_UE(x):\n",
    "    return x[0]*(2+x[0])+x[1]*(1+2*x[1])\n",
    "\n",
    "def UE_paths_time(x):\n",
    "    return 2+x[0]   \n"
   ]
  },
  {
   "cell_type": "code",
   "execution_count": 73,
   "metadata": {},
   "outputs": [],
   "source": [
    "bnds = [(0, None), (0, None)]\n",
    "cons = [{'type': 'eq', 'fun': constraint1}]\n",
    "x_ini = [0,0]"
   ]
  },
  {
   "cell_type": "code",
   "execution_count": 74,
   "metadata": {},
   "outputs": [],
   "source": [
    "res = minimize(objective, x_ini, constraints=cons, bounds=bnds, tol=0.0001)"
   ]
  },
  {
   "cell_type": "code",
   "execution_count": 76,
   "metadata": {},
   "outputs": [
    {
     "name": "stdout",
     "output_type": "stream",
     "text": [
      "Total system travel time_UE = 25.0\n",
      "Equilibrium Path Travel Time =  5.0\n",
      "x1 = 3.0\n",
      "x2 = 2.0\n"
     ]
    }
   ],
   "source": [
    "# Summary\n",
    "print('Total system travel time_UE =', round(T_SO(res.x),2))\n",
    "print('Equilibrium Path Travel Time = ', round(UE_paths_time(res.x),2))\n",
    "print('x1 =', round(res.x[0],2))\n",
    "print('x2 =', round(res.x[1],2))"
   ]
  },
  {
   "cell_type": "markdown",
   "metadata": {},
   "source": [
    "System-Optimum Formulation\n",
    "\n",
    "$\\min z(x) = x_{1}(2 + x_{1}) + x_{2}(1 + 2x_{2}) $ \\\n",
    "s.t. \\\n",
    "$x_{1} + x_{2} = 5$ \\\n",
    "$x\\geq 0 ~~\\forall~ paths$ "
   ]
  },
  {
   "cell_type": "code",
   "execution_count": 77,
   "metadata": {},
   "outputs": [],
   "source": [
    "def objective_SO(x):\n",
    "    x1 = x[0] \n",
    "    x2 = x[1] \n",
    "    \n",
    "    return x[0]*(2+x[0]) + x[1]*(1+2*x[1])\n",
    "\n",
    "def constraint1_SO(x):\n",
    "    return +x[0]+x[1]-5\n",
    "\n",
    "def T_SO(x):\n",
    "    return x[0]*(2+x[0])+x[1]*(1+2*x[1])\n",
    "\n",
    "def SO_paths_time_1(x):\n",
    "    return 2+x[0]  \n",
    "\n",
    "def SO_paths_time_2(x):\n",
    "    return 1+2*x[1]"
   ]
  },
  {
   "cell_type": "code",
   "execution_count": 83,
   "metadata": {},
   "outputs": [],
   "source": [
    "bnds_SO = [(0, None), (0, None)]\n",
    "cons_SO = [{'type': 'eq', 'fun': constraint1_SO}]\n",
    "x_ini_SO = [0,0]"
   ]
  },
  {
   "cell_type": "code",
   "execution_count": 84,
   "metadata": {},
   "outputs": [],
   "source": [
    "res2 = minimize(objective_SO, x_ini_SO, constraints=cons_SO, bounds=bnds_SO, tol=0.0001)"
   ]
  },
  {
   "cell_type": "code",
   "execution_count": 85,
   "metadata": {},
   "outputs": [
    {
     "name": "stdout",
     "output_type": "stream",
     "text": [
      "Total system travel time_SO = 24.92\n",
      "System-Optimum t1 =  5.17\n",
      "System-Optimum t2 =  4.66\n",
      "x1 = 3.17\n",
      "x2 = 1.83\n"
     ]
    }
   ],
   "source": [
    "# Summary\n",
    "print('Total system travel time_SO =', round(T_SO(res2.x),2))\n",
    "print('System-Optimum t1 = ', round(SO_paths_time_1(res2.x),2))\n",
    "print('System-Optimum t2 = ', round(SO_paths_time_2(res2.x),2))\n",
    "print('x1 =', round(res2.x[0],2))\n",
    "print('x2 =', round(res2.x[1],2))"
   ]
  },
  {
   "cell_type": "markdown",
   "metadata": {},
   "source": [
    "Comparing the results obtained for the user equilibrium formulation and the system optimum, it can be seen that the former has a higher total system travel time, while the latter presents in link 1 a higher link travel time. \n",
    "It shows that from the User Equilibrium perspective, users take care only of their travel time and don't take care of how their behavior affects the entire system. Taken it into account the next section shows the Marginal-Cost pricing toll that should be imposed to the links to improve the total system travel time."
   ]
  },
  {
   "cell_type": "markdown",
   "metadata": {},
   "source": [
    "Marginal-cost pricing toll:\n",
    "\n",
    "$\\tau_{1} = x_{1}^{SO}*\\frac{\\partial t_{1}(x_{1})}{\\partial(x_{1})} = x_{1}^{SO}*1 $ \\\n",
    "$\\tau_{2} = x_{2}^{SO}*\\frac{\\partial t_{2}(x_{2})}{\\partial(x_{2})} = x_{2}^{SO}*2 $ \n"
   ]
  },
  {
   "cell_type": "code",
   "execution_count": 81,
   "metadata": {},
   "outputs": [],
   "source": [
    "def tau_1(x):\n",
    "    return res2.x[0]\n",
    "\n",
    "def tau_2(x):\n",
    "    return res2.x[1]*2"
   ]
  },
  {
   "cell_type": "code",
   "execution_count": 82,
   "metadata": {},
   "outputs": [
    {
     "name": "stdout",
     "output_type": "stream",
     "text": [
      "Tau_1 = 3.17\n",
      "Tau_2 = 3.66\n"
     ]
    }
   ],
   "source": [
    "# Marginal-cost pricing toll\n",
    "print('Tau_1 =', round(tau_1(res2.x),2))\n",
    "print('Tau_2 =', round(tau_2(res2.x),2))"
   ]
  },
  {
   "cell_type": "code",
   "execution_count": null,
   "metadata": {},
   "outputs": [],
   "source": []
  }
 ],
 "metadata": {
  "kernelspec": {
   "display_name": "Python 3 (ipykernel)",
   "language": "python",
   "name": "python3"
  },
  "language_info": {
   "codemirror_mode": {
    "name": "ipython",
    "version": 3
   },
   "file_extension": ".py",
   "mimetype": "text/x-python",
   "name": "python",
   "nbconvert_exporter": "python",
   "pygments_lexer": "ipython3",
   "version": "3.9.13"
  }
 },
 "nbformat": 4,
 "nbformat_minor": 4
}
