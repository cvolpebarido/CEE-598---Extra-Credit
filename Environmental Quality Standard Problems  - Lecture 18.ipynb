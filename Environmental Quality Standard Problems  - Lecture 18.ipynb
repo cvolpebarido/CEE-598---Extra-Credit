{
 "cells": [
  {
   "cell_type": "code",
   "execution_count": 10,
   "metadata": {},
   "outputs": [],
   "source": [
    "import numpy as np\n",
    "from scipy.optimize import minimize"
   ]
  },
  {
   "cell_type": "markdown",
   "metadata": {},
   "source": [
    "### Environmental Quality Standard - Example 1"
   ]
  },
  {
   "cell_type": "markdown",
   "metadata": {},
   "source": [
    "![](Sustainable-network.png) "
   ]
  },
  {
   "cell_type": "markdown",
   "metadata": {},
   "source": [
    "Assuming the network shown in the figure;\n",
    "\n",
    "What is the tighest environmental quality standard that can be achieved in this transportation network?\n",
    "\n",
    "\n",
    "$\\min Q $ \\\n",
    "s.t. \\\n",
    "$x_{a} + x_{b} + x_{c} = 10$ \\\n",
    "$x\\geq 0 ~~\\forall~ paths$ \\\n",
    "$0.1x_{a}+0.2x_{b}+0.3x_{c}\\leq Q$ \n",
    "\n",
    "Assume $q^{12} = 10~$ and $~ h_{a}=0.1,~h_{b}=0.2,~h_{c}=0.3$\n"
   ]
  },
  {
   "cell_type": "code",
   "execution_count": 26,
   "metadata": {},
   "outputs": [],
   "source": [
    "def objective(x):\n",
    "    Q = x[0] #min Q\n",
    "    xa = x[1] #x_a\n",
    "    xb = x[2] #x_b\n",
    "    xc = x[3] #x_c\n",
    "    \n",
    "    return x[0]\n",
    "\n",
    "def constraint1(x):\n",
    "    return +x[1]+x[2]+x[3]-10\n",
    "\n",
    "def constraint2(x):\n",
    "    return -0.1*x[1]-0.2*x[2]-0.3*x[3]+x[0]\n",
    "\n"
   ]
  },
  {
   "cell_type": "code",
   "execution_count": 27,
   "metadata": {},
   "outputs": [],
   "source": [
    "bnds = [(0, None), (0, None), (0, None), (0, None)]\n",
    "cons = [{'type': 'eq', 'fun': constraint1},\n",
    "        {'type': 'ineq', 'fun': constraint2}]\n",
    "x_ini = [0,0,0,0]"
   ]
  },
  {
   "cell_type": "code",
   "execution_count": 28,
   "metadata": {},
   "outputs": [],
   "source": [
    "res = minimize(objective, x_ini, constraints=cons, bounds=bnds, tol=0.0001)"
   ]
  },
  {
   "cell_type": "code",
   "execution_count": 29,
   "metadata": {},
   "outputs": [
    {
     "name": "stdout",
     "output_type": "stream",
     "text": [
      "Minimum Environmental Quality Standard, Q = 1.0\n",
      "xa = 10.0\n",
      "xb = 0.0\n",
      "xc = 0.0\n"
     ]
    }
   ],
   "source": [
    "# Summary\n",
    "print('Minimum Environmental Quality Standard, Q =', round(res.x[0],2))\n",
    "print('xa =', round(res.x[1],2))\n",
    "print('xb =', round(res.x[2],2))\n",
    "print('xc =', round(res.x[3],2))"
   ]
  },
  {
   "cell_type": "markdown",
   "metadata": {},
   "source": [
    "### Achievable Travel Demand Given Q - Example 2"
   ]
  },
  {
   "cell_type": "markdown",
   "metadata": {},
   "source": [
    "What is the maximum demand that can meet the desired environmental quality standard?\n",
    "\n",
    "$\\max q^{12} $ \\\n",
    "s.t. \\\n",
    "$x_{a} + x_{b} + x_{c} = q^{12}$ \\\n",
    "$x\\geq 0 ~~\\forall~ paths$ \\\n",
    "$0.1x_{a}+0.2x_{b}+0.3x_{c}\\leq 1$ \n",
    "\n",
    "Assume $Q = 1~$ and $~ h_{a}=0.1,~h_{b}=0.2,~h_{c}=0.3$\n"
   ]
  },
  {
   "cell_type": "code",
   "execution_count": 30,
   "metadata": {},
   "outputs": [],
   "source": [
    "def objective_2(x):\n",
    "    q12 = x[0] #max q_{12} is equal to the minimization of -1*function\n",
    "    xa = x[1] #x_a\n",
    "    xb = x[2] #x_b\n",
    "    xc = x[3] #x_c\n",
    "    \n",
    "    return -x[0]\n",
    "\n",
    "def constraint1_2(x):\n",
    "    return +x[1]+x[2]+x[3]-x[0]\n",
    "\n",
    "def constraint2_2(x):\n",
    "    return -0.1*x[1]-0.2*x[2]-0.3*x[3]+1\n",
    "\n"
   ]
  },
  {
   "cell_type": "code",
   "execution_count": 31,
   "metadata": {},
   "outputs": [],
   "source": [
    "bnds_2 = [(0, None), (0, None), (0, None), (0, None)]\n",
    "cons_2 = [{'type': 'eq', 'fun': constraint1_2},\n",
    "        {'type': 'ineq', 'fun': constraint2_2}]\n",
    "x_ini_2 = [0,0,0,0]"
   ]
  },
  {
   "cell_type": "code",
   "execution_count": 32,
   "metadata": {},
   "outputs": [],
   "source": [
    "res_2 = minimize(objective_2, x_ini_2, constraints=cons_2, bounds=bnds_2, tol=0.0001)"
   ]
  },
  {
   "cell_type": "code",
   "execution_count": 33,
   "metadata": {},
   "outputs": [
    {
     "name": "stdout",
     "output_type": "stream",
     "text": [
      "Maximum Demand found when Q = 1, q12 =  10.0\n",
      "xa = 10.0\n",
      "xb = 0.0\n",
      "xc = 0.0\n"
     ]
    }
   ],
   "source": [
    "# Summary\n",
    "print('Maximum Demand found when Q = 1, q12 = ', round(res_2.x[0],2))\n",
    "print('xa =', round(res_2.x[1],2))\n",
    "print('xb =', round(res_2.x[2],2))\n",
    "print('xc =', round(res_2.x[3],2))"
   ]
  },
  {
   "cell_type": "markdown",
   "metadata": {},
   "source": [
    "### Sustainability of a Transportation Network - Example 3"
   ]
  },
  {
   "cell_type": "markdown",
   "metadata": {},
   "source": [
    "Now we are going to suppose the following link performance functions for the network and compute the total emission under User Equilibrium Formulation, \n",
    "\n",
    "Cost structure:\n",
    "\n",
    "\\$t_{a}(x_{a})=2x_{a}+5$\n",
    "\n",
    "\\$t_{b}(x_{b})=x_{b}+8$\n",
    "\n",
    "\\$t_{c}=1.5x_{c}+5$ \n",
    "\n",
    "\\$q^{12} = 10$\n",
    "\n",
    "\n",
    "\n",
    "$\\min z_{x}= \\frac{2x_{a}^{2}}{2} + 5x_{a} + \\frac{x_{b}^{2}}{2} + 8x_{b} + \\frac{1.5x_{c}^{2}}{2} + 5x_{c}$  \\\n",
    "s.t. \\\n",
    "$x_{a} + x_{b} + x_{c} = 10$ \\\n",
    "$x_{a}, x_{b}, x_{c}\\geq 0 ~~\\forall~ paths$ \n",
    "\n",
    "Assume:\n",
    "Desired environmental quality standard $Q = 1~$ \n",
    "\n",
    "Emission factors:\n",
    "\n",
    "\\$h_{a}=0.1,~ h_{b}=0.2,~ h_{c}=0.3$\n"
   ]
  },
  {
   "cell_type": "code",
   "execution_count": 34,
   "metadata": {},
   "outputs": [],
   "source": [
    "def objective_3(x):\n",
    "    xa = x[0] #x_a\n",
    "    xb = x[1] #x_b\n",
    "    xc = x[2] #x_c\n",
    "    \n",
    "    return (2*x[0]**2)/2 + 5*x[0] + (x[1]**2)/2 + 8*x[1] + (1.5*x[2]**2)/2 + 5*x[2]\n",
    "\n",
    "def constraint1_3(x):\n",
    "    return +x[0]+x[1]+x[2]-10\n",
    "\n",
    "def Total_Emissions_under_UE(x): \n",
    "    return 0.1*x[0] + 0.2*x[1] + 0.3*x[2]\n",
    "\n",
    "def Path_Travel_Time(x):\n",
    "    return x[0]*(2*x[0]+5) + x[1]*(x[1]+8) + x[2]*(1.5*x[2]+5)\n"
   ]
  },
  {
   "cell_type": "code",
   "execution_count": 35,
   "metadata": {},
   "outputs": [],
   "source": [
    "bnds_3 = [(0, None), (0, None), (0, None)]\n",
    "cons_3 = [{'type': 'eq', 'fun': constraint1_3}]\n",
    "x_ini_3 = [0,0,0]"
   ]
  },
  {
   "cell_type": "code",
   "execution_count": 36,
   "metadata": {},
   "outputs": [],
   "source": [
    "res_3 = minimize(objective_3, x_ini_3, constraints=cons_3, bounds=bnds_3, tol=0.0001)"
   ]
  },
  {
   "cell_type": "code",
   "execution_count": 42,
   "metadata": {},
   "outputs": [
    {
     "name": "stdout",
     "output_type": "stream",
     "text": [
      "Flow Distribution under UE Formulation:\n",
      "xa = 3.0\n",
      "xb = 3.0\n",
      "xc = 4.0\n",
      "Total Emissions under UE: 2.1\n",
      "Equilibrium Path Travel Time: 110.0\n"
     ]
    }
   ],
   "source": [
    "# Summary\n",
    "print(\"Flow Distribution under UE Formulation:\")\n",
    "print('xa =', round(res_3.x[0],2))\n",
    "print('xb =', round(res_3.x[1],2))\n",
    "print('xc =', round(res_3.x[2],2))\n",
    "\n",
    "print('Total Emissions under UE:', round(Total_Emissions_under_UE(res_3.x),2))\n",
    "print('Equilibrium Path Travel Time:', round(Path_Travel_Time(res_3.x),2))"
   ]
  },
  {
   "cell_type": "markdown",
   "metadata": {},
   "source": [
    "Since the total emissions emitted by the entire system are higher than the required environmental quality standards, this configuration (or traffic allocation) is not feasible from an environmental point of view. An action to reverse this situation might be to implement a toll that allows traffic to be allocated to the system as shown in example 2 where xa = 10, xb = 0 and xc = 0. \n"
   ]
  },
  {
   "cell_type": "code",
   "execution_count": null,
   "metadata": {},
   "outputs": [],
   "source": []
  }
 ],
 "metadata": {
  "kernelspec": {
   "display_name": "Python 3 (ipykernel)",
   "language": "python",
   "name": "python3"
  },
  "language_info": {
   "codemirror_mode": {
    "name": "ipython",
    "version": 3
   },
   "file_extension": ".py",
   "mimetype": "text/x-python",
   "name": "python",
   "nbconvert_exporter": "python",
   "pygments_lexer": "ipython3",
   "version": "3.9.13"
  }
 },
 "nbformat": 4,
 "nbformat_minor": 4
}
