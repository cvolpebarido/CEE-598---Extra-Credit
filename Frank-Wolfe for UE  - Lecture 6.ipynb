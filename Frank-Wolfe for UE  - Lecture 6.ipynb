{
 "cells": [
  {
   "cell_type": "markdown",
   "metadata": {},
   "source": [
    "## Frank-Wolfe for UE\n"
   ]
  },
  {
   "cell_type": "code",
   "execution_count": 81,
   "metadata": {},
   "outputs": [],
   "source": [
    "import numpy as np\n",
    "import scipy.optimize\n",
    "import pandas as pd\n",
    "import matplotlib.pyplot as plt\n",
    "import networkx as nx\n",
    "from scipy.optimize import root"
   ]
  },
  {
   "cell_type": "markdown",
   "metadata": {},
   "source": [
    "![](Frank-Wolfe-2.png) \n"
   ]
  },
  {
   "cell_type": "code",
   "execution_count": 82,
   "metadata": {},
   "outputs": [],
   "source": [
    "# The following line initializes an empty directed graph objects\n",
    "G1 = nx.DiGraph()\n",
    "# An empty undirected graph object can be initialized using the command\n",
    "# G=nx.Graph()"
   ]
  },
  {
   "cell_type": "code",
   "execution_count": 83,
   "metadata": {},
   "outputs": [],
   "source": [
    "# We then set the coordinates of each node\n",
    "\n",
    "G1.add_node(1,pos = (0,1))\n",
    "G1.add_node(2,pos = (0,0))\n",
    "G1.add_node(3,pos = (1,0.5))\n",
    "G1.add_node(4,pos = (2,0.5))\n",
    "\n",
    "G1.nodes()\n",
    "\n",
    "# The positions of each node are stored in a dictionary\n",
    "node_pos=nx.get_node_attributes(G1,'pos')"
   ]
  },
  {
   "cell_type": "code",
   "execution_count": 84,
   "metadata": {},
   "outputs": [
    {
     "data": {
      "text/plain": [
       "OutEdgeView([(1, 3), (1, 4), (2, 3), (2, 4), (3, 4)])"
      ]
     },
     "execution_count": 84,
     "metadata": {},
     "output_type": "execute_result"
    }
   ],
   "source": [
    "# the weight is the time when flow is zero, at free flow speed\n",
    "G1.add_edge(1, 3, weight = 0.5)\n",
    "G1.add_edge(2, 3, weight = 0.5)\n",
    "G1.add_edge(1, 4, weight = 1.0)\n",
    "G1.add_edge(2, 4, weight = 1.0)\n",
    "G1.add_edge(3, 4, weight = 1.0)\n",
    "\n",
    "G1.edges()"
   ]
  },
  {
   "cell_type": "code",
   "execution_count": 85,
   "metadata": {},
   "outputs": [
    {
     "data": {
      "image/png": "[encoded data removed]",
      "text/plain": [
       "<Figure size 350x280 with 1 Axes>"
      ]
     },
     "metadata": {},
     "output_type": "display_data"
    }
   ],
   "source": [
    "# Draw the nodes\n",
    "plt.figure(figsize=(5,4), dpi=70)\n",
    "nx.draw_networkx(G1, node_pos, arrows= True, with_labels=True)\n",
    "\n",
    "#Remove the axis\n",
    "plt.axis('off')\n",
    "#Show the plot\n",
    "plt.show()"
   ]
  },
  {
   "cell_type": "code",
   "execution_count": 86,
   "metadata": {},
   "outputs": [],
   "source": [
    "# Determine all Origin-Destination pairs\n",
    "origen = [1,2]\n",
    "destination = [4,4]\n",
    "demand = {(1,4): 2000 , (2,4): 1000}"
   ]
  },
  {
   "cell_type": "code",
   "execution_count": 87,
   "metadata": {},
   "outputs": [],
   "source": [
    "# To solve the User Equilibrium, it is implemented the Frank-Wolfe for UE Formulation - Lecture 6\n",
    "# Initialization\n",
    "#Assign empty attributes\n",
    "for i in G1.edges:\n",
    "    G1.edges[i][\"x0\"] = 0.0\n",
    "    G1.edges[i][\"x1\"] = 0.0\n",
    "    G1.edges[i][\"xn\"] = 0.0\n",
    "    G1.edges[i][\"xn+1\"] = 0.0\n",
    "    G1.edges[i][\"t1\"] = 0.0    \n",
    "    G1.edges[i][\"tn\"] = 0.0\n",
    "    G1.edges[i][\"yn\"] = 0.0\n",
    "    \n",
    "# Shortest path \n",
    "path={}\n",
    "for i in range(len(origen)):\n",
    "    path[origen[i],destination[i]]=nx.dijkstra_path(G1,origen[i],destination[i])\n",
    "#print(path)\n",
    "\n",
    "# Determining the links in the shortest path\n",
    "path2 = {}\n",
    "for (i,j) in path.keys():\n",
    "        path2[(i,j)] = []\n",
    "        for k in range(len(path[(i,j)])-1):\n",
    "            a = path[(i,j)][k]\n",
    "            b = path[(i,j)][k+1]\n",
    "            path2[(i,j)].append((a,b))\n",
    "#path2\n",
    "\n",
    "# All or nothing assignment\n",
    "for (i,j) in path2.keys():\n",
    "    for (k,l) in path2[(i,j)]:\n",
    "        G1.edges[(k,l)][\"x1\"] += demand[(i,j)]\n",
    "\n",
    "# Travel_time update\n",
    "G1.edges[(1,3)]['t1'] = 0.5 + 0.001*G1.edges[(1,3)]['x1']\n",
    "G1.edges[(2,3)]['t1'] = 0.5 + 0.001*G1.edges[(2,3)]['x1']\n",
    "G1.edges[(1,4)]['t1'] = 1.0 + 0.0005*G1.edges[(1,4)]['x1']\n",
    "G1.edges[(2,4)]['t1'] = 1.0 + 0.001*G1.edges[(2,4)]['x1']\n",
    "G1.edges[(3,4)]['t1'] = 1.0 + 0.002*G1.edges[(3,4)]['x1']\n",
    "\n",
    "#nx.get_edge_attributes(G1,\"t1\"), path, \n",
    "#nx.get_edge_attributes(G1,\"x1\")"
   ]
  },
  {
   "cell_type": "code",
   "execution_count": 88,
   "metadata": {},
   "outputs": [],
   "source": [
    "for (i,j) in G1.edges:\n",
    "    G1.edges[(i,j)]['tn'] = G1.edges[(i,j)]['t1']\n",
    "for (i,j) in G1.edges:\n",
    "    G1.edges[(i,j)]['xn'] = G1.edges[(i,j)]['x1']"
   ]
  },
  {
   "cell_type": "code",
   "execution_count": 89,
   "metadata": {},
   "outputs": [],
   "source": [
    "#Code for the determination of xn+1\n",
    " \n",
    "e = 0.0001\n",
    "conv = 100\n",
    "c = []\n",
    "\n",
    "while conv > e:\n",
    "    \n",
    "    # Shortest path \n",
    "    pathn={}\n",
    "    for i in range(len(origen)):\n",
    "        pathn[origen[i],destination[i]]=nx.dijkstra_path(G1,origen[i],destination[i], weight = 'tn')\n",
    "            \n",
    "    # Determining the links in the shortest path\n",
    "    path2n = {}\n",
    "    for (i,j) in pathn.keys():\n",
    "            path2n[(i,j)] = []\n",
    "            for k in range(len(pathn[(i,j)])-1):\n",
    "                a = pathn[(i,j)][k]\n",
    "                b = pathn[(i,j)][k+1]\n",
    "                path2n[(i,j)].append((a,b))\n",
    "    \n",
    "    # All or nothing assignment\n",
    "    for (i,j) in path2n.keys():\n",
    "        for (k,l) in path2n[(i,j)]:\n",
    "            G1.edges[(k,l)][\"yn\"] += demand[(i,j)]\n",
    "    #nx.get_edge_attributes(G1,\"yn\")\n",
    "    \n",
    "    # Function to optimize\n",
    "    def fun_falpha(x):\n",
    "        suma = 0.0\n",
    "        for (i,j) in G1.edges:\n",
    "            x_opt_13 = G1.edges[(1,3)]['xn']+x*(G1.edges[(1,3)]['yn']-G1.edges[(1,3)]['xn'])\n",
    "            x_opt_23 = G1.edges[(2,3)]['xn']+x*(G1.edges[(2,3)]['yn']-G1.edges[(2,3)]['xn'])\n",
    "            x_opt_14 = G1.edges[(1,4)]['xn']+x*(G1.edges[(1,4)]['yn']-G1.edges[(1,4)]['xn'])\n",
    "            x_opt_24 = G1.edges[(2,4)]['xn']+x*(G1.edges[(2,4)]['yn']-G1.edges[(2,4)]['xn']) \n",
    "            x_opt_34 = G1.edges[(3,4)]['xn']+x*(G1.edges[(3,4)]['yn']-G1.edges[(3,4)]['xn']) \n",
    "            a = (G1.edges[(1,3)]['yn']-G1.edges[(1,3)]['xn'])*(0.5 + 0.001*x_opt_13)\n",
    "            b = (G1.edges[(2,3)]['yn']-G1.edges[(2,3)]['xn'])*(0.5 + 0.001*x_opt_23)\n",
    "            c = (G1.edges[(1,4)]['yn']-G1.edges[(1,4)]['xn'])*(1.0 + 0.0005*x_opt_14)\n",
    "            d = (G1.edges[(2,4)]['yn']-G1.edges[(2,4)]['xn'])*(1.0 + 0.001*x_opt_24)            \n",
    "            e = (G1.edges[(3,4)]['yn']-G1.edges[(3,4)]['xn'])*(1.0 + 0.002*x_opt_34)\n",
    "            suma = a+b+c+d+e \n",
    "        return suma \n",
    " \n",
    "    # Optimization\n",
    "    alpha = scipy.optimize.root(fun_falpha, 0.1, tol = 0.001)\n",
    "    alp = alpha.x[0]\n",
    "    #if alp>1:\n",
    "     #   alp = 1\n",
    "    #elif alp<0:\n",
    "     #   alp=0\n",
    "    #else:\n",
    "     #   alp = alp\n",
    "          \n",
    "    #print(alp)\n",
    "    \n",
    "    # Update xn1\n",
    "    for (i,j) in G1.edges:\n",
    "        G1.edges[(i,j)]['xn+1']= G1.edges[(i,j)]['xn'] + alp*(G1.edges[(i,j)]['yn'] - G1.edges[(i,j)]['xn'])\n",
    "\n",
    "    #nx.get_edge_attributes(G1,'xn+1')\n",
    "    \n",
    "    #Travel_time update\n",
    "    G1.edges[(1,3)]['tn'] = 0.5 + 0.001*G1.edges[(1,3)]['xn+1']\n",
    "    G1.edges[(2,3)]['tn'] = 0.5 + 0.001*G1.edges[(2,3)]['xn+1']\n",
    "    G1.edges[(1,4)]['tn'] = 1.0 + 0.0005*G1.edges[(1,4)]['xn+1']\n",
    "    G1.edges[(2,4)]['tn'] = 1.0 + 0.001*G1.edges[(2,4)]['xn+1']\n",
    "    G1.edges[(3,4)]['tn'] = 1.0 + 0.002*G1.edges[(3,4)]['xn+1']\n",
    "\n",
    " \n",
    "    # Convergence test\n",
    "    sum1 = 0.0\n",
    "    sum2 = 0.0\n",
    "    for (i,j) in G1.edges:\n",
    "        sum1 += ((G1.edges[(i,j)]['xn+1'] - G1.edges[(i,j)]['xn'])**2)**(1/2)\n",
    "    for (i,j) in G1.edges:\n",
    "        sum2 += G1.edges[(i,j)]['xn']\n",
    "    conv = sum1/sum2\n",
    "    c[len(c):] = [conv]\n",
    "           \n",
    "    #Re-start\n",
    "    for (i,j) in G1.edges:\n",
    "        G1.edges[(i,j)]['xn'] = G1.edges[(i,j)]['xn+1']\n",
    "        G1.edges[(i,j)]['yn'] = 0.0\n",
    "#nx.get_edge_attributes(G1,\"xn+1\")#, alp,     "
   ]
  },
  {
   "cell_type": "code",
   "execution_count": 90,
   "metadata": {},
   "outputs": [],
   "source": [
    "#Total System Travel Time\n",
    "T_UE = G1.edges[(1,3)]['xn+1']*(0.5+0.001*G1.edges[(1,3)]['xn+1']) + G1.edges[(2,3)]['xn+1']*(0.5+0.001*G1.edges[(2,3)]['xn+1']) + G1.edges[(1,4)]['xn+1']*(1.0+0.0005*G1.edges[(1,4)]['xn+1'])+G1.edges[(2,4)]['xn+1']*(1.0+0.001*G1.edges[(2,4)]['xn+1'])+G1.edges[(3,4)]['xn+1']*(1.0+0.002*G1.edges[(3,4)]['xn+1'])"
   ]
  },
  {
   "cell_type": "code",
   "execution_count": 91,
   "metadata": {},
   "outputs": [],
   "source": [
    "# Links Time\n",
    "UE_link_13 = nx.get_edge_attributes(G1,\"tn\")[(1,3)]\n",
    "UE_link_23 = nx.get_edge_attributes(G1,\"tn\")[(2,3)]\n",
    "UE_link_14 = nx.get_edge_attributes(G1,\"tn\")[(1,4)]\n",
    "UE_link_24 = nx.get_edge_attributes(G1,\"tn\")[(2,4)]\n",
    "UE_link_34 = nx.get_edge_attributes(G1,\"tn\")[(3,4)]\n"
   ]
  },
  {
   "cell_type": "code",
   "execution_count": 92,
   "metadata": {},
   "outputs": [
    {
     "name": "stdout",
     "output_type": "stream",
     "text": [
      "Total system travel time (minutes) =  5825.0\n",
      "Link Time (1,3) =  0.6\n",
      "Link Time (2,3) =  0.575\n",
      "Link Time (1,4) =  1.95\n",
      "Link Time (2,4) =  1.925\n",
      "Link Time (3,4) =  1.35\n"
     ]
    },
    {
     "data": {
      "text/html": [
       "<div>\n",
       "<style scoped>\n",
       "    .dataframe tbody tr th:only-of-type {\n",
       "        vertical-align: middle;\n",
       "    }\n",
       "\n",
       "    .dataframe tbody tr th {\n",
       "        vertical-align: top;\n",
       "    }\n",
       "\n",
       "    .dataframe thead th {\n",
       "        text-align: right;\n",
       "    }\n",
       "</style>\n",
       "<table border=\"1\" class=\"dataframe\">\n",
       "  <thead>\n",
       "    <tr style=\"text-align: right;\">\n",
       "      <th></th>\n",
       "      <th>UE Link Total Flow (veh/hr)</th>\n",
       "    </tr>\n",
       "  </thead>\n",
       "  <tbody>\n",
       "    <tr>\n",
       "      <th>(1, 3)</th>\n",
       "      <td>100.113231</td>\n",
       "    </tr>\n",
       "    <tr>\n",
       "      <th>(1, 4)</th>\n",
       "      <td>1899.886769</td>\n",
       "    </tr>\n",
       "    <tr>\n",
       "      <th>(2, 3)</th>\n",
       "      <td>74.886679</td>\n",
       "    </tr>\n",
       "    <tr>\n",
       "      <th>(2, 4)</th>\n",
       "      <td>925.113321</td>\n",
       "    </tr>\n",
       "    <tr>\n",
       "      <th>(3, 4)</th>\n",
       "      <td>174.999910</td>\n",
       "    </tr>\n",
       "  </tbody>\n",
       "</table>\n",
       "</div>"
      ],
      "text/plain": [
       "        UE Link Total Flow (veh/hr)\n",
       "(1, 3)                   100.113231\n",
       "(1, 4)                  1899.886769\n",
       "(2, 3)                    74.886679\n",
       "(2, 4)                   925.113321\n",
       "(3, 4)                   174.999910"
      ]
     },
     "execution_count": 92,
     "metadata": {},
     "output_type": "execute_result"
    }
   ],
   "source": [
    "# Summary\n",
    "\n",
    "xn_fin = nx.get_edge_attributes(G1,\"xn+1\")\n",
    "tn = nx.get_edge_attributes(G1,\"tn\")\n",
    "\n",
    "print('Total system travel time (minutes) = ', round(T_UE,2))\n",
    "print('Link Time (1,3) = ', round(UE_link_13,3))\n",
    "print('Link Time (2,3) = ', round(UE_link_23,3))\n",
    "print('Link Time (1,4) = ', round(UE_link_14,3))\n",
    "print('Link Time (2,4) = ', round(UE_link_24,3))\n",
    "print('Link Time (3,4) = ', round(UE_link_34,3))\n",
    "\n",
    "\n",
    "User_Equilibrium = pd.DataFrame.from_dict(xn_fin, orient='index', columns=['UE Link Total Flow (veh/hr)'])\n",
    "User_Equilibrium"
   ]
  },
  {
   "cell_type": "markdown",
   "metadata": {},
   "source": [
    "This problem shows the flow assignment to the different links according to the User-Equilibrium Formulation, following the Frank Wolfe algorithm. \n",
    "The analysis continue with the Frank-Wolfe for SO notebook, where it shows the difference between both apporaches.\n"
   ]
  },
  {
   "cell_type": "code",
   "execution_count": null,
   "metadata": {},
   "outputs": [],
   "source": []
  }
 ],
 "metadata": {
  "kernelspec": {
   "display_name": "Python 3 (ipykernel)",
   "language": "python",
   "name": "python3"
  },
  "language_info": {
   "codemirror_mode": {
    "name": "ipython",
    "version": 3
   },
   "file_extension": ".py",
   "mimetype": "text/x-python",
   "name": "python",
   "nbconvert_exporter": "python",
   "pygments_lexer": "ipython3",
   "version": "3.9.13"
  },
  "vscode": {
   "interpreter": {
    "hash": "ad2bdc8ecc057115af97d19610ffacc2b4e99fae6737bb82f5d7fb13d2f2c186"
   }
  }
 },
 "nbformat": 4,
 "nbformat_minor": 2
}
